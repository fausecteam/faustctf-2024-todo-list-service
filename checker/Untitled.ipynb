{
 "cells": [
  {
   "cell_type": "code",
   "execution_count": 53,
   "outputs": [],
   "source": [
    "from ctf_gameserver import checkerlib\n",
    "from ctf_gameserver.checkerlib import CheckResult\n",
    "import requests\n",
    "from bs4 import BeautifulSoup\n",
    "from typing import List\n",
    "import utils\n",
    "import random\n",
    "import string\n",
    "\n",
    "def generate_random_string(length: int) -> str:\n",
    "    # Define the character set: lowercase letters, uppercase letters, and digits\n",
    "    characters = string.ascii_letters + string.digits + string.punctuation\n",
    "\n",
    "    # Use random.choices to select random characters from the character set\n",
    "    random_string = ''.join(random.choices(characters, k=length))\n",
    "    return random_string\n",
    "\n",
    "def extract_verification_token(html_content: str):\n",
    "    soup = BeautifulSoup(html_content, \"html.parser\")\n",
    "    return soup.find(\"input\", {\"name\": \"__RequestVerificationToken\"})[\"value\"]\n",
    "\n",
    "ip = \"127.0.0.1\"\n",
    "team = 0\n",
    "\n",
    "email = 'admin@example.de'\n",
    "random.seed(0)\n",
    "password = f\"{generate_random_string(40)}\"\n",
    "web_app_port = 8080\n",
    "base_url = f'http://{ip}:{web_app_port}/'\n",
    "register_url = base_url + 'Identity/Account/Register'\n",
    "login_url = base_url + 'Identity/Account/Login'\n",
    "list_todos_url = base_url + 'Todo/ListTodos'\n",
    "add_todo_url = base_url + 'Todo/AddTodo'\n",
    "logout_url = base_url + 'Identity/Account/Logout'\n",
    "session = requests.Session()"
   ],
   "metadata": {
    "collapsed": false,
    "ExecuteTime": {
     "end_time": "2024-08-19T08:23:08.756979300Z",
     "start_time": "2024-08-19T08:23:08.721329100Z"
    }
   },
   "id": "569507f5863e38b6"
  },
  {
   "cell_type": "code",
   "execution_count": 54,
   "outputs": [
    {
     "data": {
      "text/plain": "\"<*NyWM,CS2\\\\VA*6x\\\\}/[D'[#SjO5\\\\{S>y.Zb&L:!\""
     },
     "execution_count": 54,
     "metadata": {},
     "output_type": "execute_result"
    }
   ],
   "source": [
    "password"
   ],
   "metadata": {
    "collapsed": false,
    "ExecuteTime": {
     "end_time": "2024-08-19T08:23:12.053836900Z",
     "start_time": "2024-08-19T08:23:12.043033600Z"
    }
   },
   "id": "f18ea11bc9759bd0"
  },
  {
   "cell_type": "code",
   "execution_count": 35,
   "outputs": [
    {
     "name": "stdout",
     "output_type": "stream",
     "text": [
      "<Response [200]>\n",
      "<Response [200]>\n"
     ]
    }
   ],
   "source": [
    "r = session.get(add_todo_url)\n",
    "print(r)\n",
    "data = {\"Id\": \"\",\n",
    "        \"Description\": \"foooooo\",\n",
    "        \"__RequestVerificationToken\": extract_verification_token(r.text)}\n",
    "r2 = session.post(add_todo_url, data)\n",
    "print(r2)"
   ],
   "metadata": {
    "collapsed": false,
    "ExecuteTime": {
     "end_time": "2024-08-07T15:27:52.865631200Z",
     "start_time": "2024-08-07T15:27:52.743978800Z"
    }
   },
   "id": "8f3329be6463684b"
  },
  {
   "cell_type": "code",
   "execution_count": 52,
   "outputs": [
    {
     "data": {
      "text/plain": "True"
     },
     "execution_count": 52,
     "metadata": {},
     "output_type": "execute_result"
    }
   ],
   "source": [
    "login_url in r.url"
   ],
   "metadata": {
    "collapsed": false,
    "ExecuteTime": {
     "end_time": "2024-08-07T15:30:32.147749800Z",
     "start_time": "2024-08-07T15:30:32.142721100Z"
    }
   },
   "id": "8d8be8a8147dd67f"
  },
  {
   "cell_type": "code",
   "execution_count": null,
   "outputs": [],
   "source": [
    "\"1dm1n@1x1mpl1.d1\"\n",
    "\"d1m1n@1x1mpl1.d1\""
   ],
   "metadata": {
    "collapsed": false
   },
   "id": "df201ef0534746d7"
  },
  {
   "cell_type": "code",
   "execution_count": null,
   "outputs": [],
   "source": [],
   "metadata": {
    "collapsed": false
   },
   "id": "53d4c311e9739595"
  },
  {
   "cell_type": "code",
   "execution_count": null,
   "outputs": [],
   "source": [],
   "metadata": {
    "collapsed": false
   },
   "id": "1cbd619036ab6b70"
  },
  {
   "cell_type": "code",
   "execution_count": null,
   "outputs": [],
   "source": [],
   "metadata": {
    "collapsed": false
   },
   "id": "3fbb7d020ffa8862"
  }
 ],
 "metadata": {
  "kernelspec": {
   "display_name": "Python 3 (ipykernel)",
   "language": "python",
   "name": "python3"
  },
  "language_info": {
   "codemirror_mode": {
    "name": "ipython",
    "version": 3
   },
   "file_extension": ".py",
   "mimetype": "text/x-python",
   "name": "python",
   "nbconvert_exporter": "python",
   "pygments_lexer": "ipython3",
   "version": "3.11.5"
  }
 },
 "nbformat": 4,
 "nbformat_minor": 5
}
